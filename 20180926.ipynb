{
  "nbformat": 4,
  "nbformat_minor": 0,
  "metadata": {
    "colab": {
      "name": "20180926.ipynb",
      "version": "0.3.2",
      "provenance": [],
      "collapsed_sections": [],
      "include_colab_link": true
    },
    "kernelspec": {
      "name": "python3",
      "display_name": "Python 3"
    },
    "accelerator": "GPU"
  },
  "cells": [
    {
      "cell_type": "markdown",
      "metadata": {
        "id": "view-in-github",
        "colab_type": "text"
      },
      "source": [
        "[View in Colaboratory](https://colab.research.google.com/github/modeverv/JupyterNotebook/blob/master/20180926.ipynb)"
      ]
    },
    {
      "metadata": {
        "id": "DPF3SzrwRxzq",
        "colab_type": "code",
        "colab": {
          "base_uri": "https://localhost:8080/",
          "height": 819
        },
        "outputId": "de1f61b3-a0f5-4d84-e680-7c0e0dbbcfb5"
      },
      "cell_type": "code",
      "source": [
        "!apt -y install libcusparse8.0 libnvrtc8.0 libnvtoolsext1\n",
        "!ln -snf /usr/lib/x86_64-linux-gnu/libnvrtc-builtins.so.8.0 /usr/lib/x86_64-linux-gnu/libnvrtc-builtins.so\n",
        "!pip install cupy-cuda80 chainer"
      ],
      "execution_count": 1,
      "outputs": [
        {
          "output_type": "stream",
          "text": [
            "Reading package lists... Done\n",
            "Building dependency tree       \n",
            "Reading state information... Done\n",
            "The following NEW packages will be installed:\n",
            "  libcusparse8.0 libnvrtc8.0 libnvtoolsext1\n",
            "0 upgraded, 3 newly installed, 0 to remove and 0 not upgraded.\n",
            "Need to get 28.9 MB of archives.\n",
            "After this operation, 71.6 MB of additional disk space will be used.\n",
            "Get:1 http://archive.ubuntu.com/ubuntu artful/multiverse amd64 libcusparse8.0 amd64 8.0.61-1 [22.6 MB]\n",
            "Get:2 http://archive.ubuntu.com/ubuntu artful/multiverse amd64 libnvrtc8.0 amd64 8.0.61-1 [6,225 kB]\n",
            "Get:3 http://archive.ubuntu.com/ubuntu artful/multiverse amd64 libnvtoolsext1 amd64 8.0.61-1 [32.2 kB]\n",
            "Fetched 28.9 MB in 7s (3,673 kB/s)\n",
            "Selecting previously unselected package libcusparse8.0:amd64.\n",
            "(Reading database ... 18408 files and directories currently installed.)\n",
            "Preparing to unpack .../libcusparse8.0_8.0.61-1_amd64.deb ...\n",
            "Unpacking libcusparse8.0:amd64 (8.0.61-1) ...\n",
            "Selecting previously unselected package libnvrtc8.0:amd64.\n",
            "Preparing to unpack .../libnvrtc8.0_8.0.61-1_amd64.deb ...\n",
            "Unpacking libnvrtc8.0:amd64 (8.0.61-1) ...\n",
            "Selecting previously unselected package libnvtoolsext1:amd64.\n",
            "Preparing to unpack .../libnvtoolsext1_8.0.61-1_amd64.deb ...\n",
            "Unpacking libnvtoolsext1:amd64 (8.0.61-1) ...\n",
            "Setting up libnvtoolsext1:amd64 (8.0.61-1) ...\n",
            "Setting up libcusparse8.0:amd64 (8.0.61-1) ...\n",
            "Setting up libnvrtc8.0:amd64 (8.0.61-1) ...\n",
            "Processing triggers for libc-bin (2.26-0ubuntu2.1) ...\n",
            "Collecting cupy-cuda80\n",
            "\u001b[?25l  Downloading https://files.pythonhosted.org/packages/de/e2/a335e07f9b40b7e16a1aa04924b18c538ce763237ac7b5137caffc1c9a3a/cupy_cuda80-4.5.0-cp36-cp36m-manylinux1_x86_64.whl (200.7MB)\n",
            "\u001b[K    100% |████████████████████████████████| 200.7MB 168kB/s \n",
            "\u001b[?25hCollecting chainer\n",
            "\u001b[?25l  Downloading https://files.pythonhosted.org/packages/fc/ae/5b08a1717187ef98127b5d68ec700009b9c8a918b40319813e3e89f2254f/chainer-4.5.0.tar.gz (402kB)\n",
            "\u001b[K    100% |████████████████████████████████| 409kB 12.0MB/s \n",
            "\u001b[?25hRequirement already satisfied: numpy>=1.9.0 in /usr/local/lib/python3.6/dist-packages (from cupy-cuda80) (1.14.6)\n",
            "Collecting fastrlock>=0.3 (from cupy-cuda80)\n",
            "  Downloading https://files.pythonhosted.org/packages/b5/93/a7efbd39eac46c137500b37570c31dedc2d31a8ff4949fcb90bda5bc5f16/fastrlock-0.4-cp36-cp36m-manylinux1_x86_64.whl\n",
            "Requirement already satisfied: six>=1.9.0 in /usr/local/lib/python3.6/dist-packages (from cupy-cuda80) (1.11.0)\n",
            "Collecting filelock (from chainer)\n",
            "  Downloading https://files.pythonhosted.org/packages/85/1c/389ca4da8b631a06dec64c94c9c6f22bbd9be236f0030ee4863e7d6e42a7/filelock-3.0.8-py3-none-any.whl\n",
            "Requirement already satisfied: protobuf>=3.0.0 in /usr/local/lib/python3.6/dist-packages (from chainer) (3.6.1)\n",
            "Requirement already satisfied: setuptools in /usr/local/lib/python3.6/dist-packages (from protobuf>=3.0.0->chainer) (39.1.0)\n",
            "Building wheels for collected packages: chainer\n",
            "  Running setup.py bdist_wheel for chainer ... \u001b[?25l-\b \b\\\b \b|\b \b/\b \b-\b \b\\\b \bdone\n",
            "\u001b[?25h  Stored in directory: /root/.cache/pip/wheels/4f/a5/e6/b0cbcc4cc1daeaab566096480d5b9aed9106de601daf1006f8\n",
            "Successfully built chainer\n",
            "Installing collected packages: fastrlock, cupy-cuda80, filelock, chainer\n",
            "Successfully installed chainer-4.5.0 cupy-cuda80-4.5.0 fastrlock-0.4 filelock-3.0.8\n"
          ],
          "name": "stdout"
        }
      ]
    },
    {
      "metadata": {
        "id": "w8buq7feSOcH",
        "colab_type": "code",
        "colab": {
          "base_uri": "https://localhost:8080/",
          "height": 51
        },
        "outputId": "e54f4605-302b-4c8a-b4fa-6058be89252f"
      },
      "cell_type": "code",
      "source": [
        "import cupy as cp\n",
        "x = cp.arange(6).reshape(2, 3).astype('f')\n",
        "x"
      ],
      "execution_count": 4,
      "outputs": [
        {
          "output_type": "execute_result",
          "data": {
            "text/plain": [
              "array([[0., 1., 2.],\n",
              "       [3., 4., 5.]], dtype=float32)"
            ]
          },
          "metadata": {
            "tags": []
          },
          "execution_count": 4
        }
      ]
    },
    {
      "metadata": {
        "id": "mKoTPrSfSwzp",
        "colab_type": "code",
        "colab": {
          "base_uri": "https://localhost:8080/",
          "height": 34
        },
        "outputId": "cdd3b3b6-e174-4242-acf0-9ef0e5eb6330"
      },
      "cell_type": "code",
      "source": [
        "1 + 1 "
      ],
      "execution_count": 0,
      "outputs": [
        {
          "output_type": "execute_result",
          "data": {
            "text/plain": [
              "2"
            ]
          },
          "metadata": {
            "tags": []
          },
          "execution_count": 1
        }
      ]
    },
    {
      "metadata": {
        "id": "EOzuFV8M7_Dz",
        "colab_type": "code",
        "colab": {
          "base_uri": "https://localhost:8080/",
          "height": 85
        },
        "outputId": "bc70d701-4cb9-4cbf-9949-de8748a8ed4a"
      },
      "cell_type": "code",
      "source": [
        "# import numpy as np\n",
        "import numpy as np\n",
        "\n",
        "text = 'You say goodbye and I say hello.'\n",
        "\n",
        "text = text.lower()\n",
        "text = text.replace('.', ' .')\n",
        "words = text.split(' ')\n",
        "print(words)\n",
        "\n",
        "word_to_id = {}\n",
        "id_to_word = {}\n",
        "for word in words:\n",
        "    if word not in word_to_id:\n",
        "        new_id = len(word_to_id)\n",
        "        word_to_id[word] = new_id\n",
        "        id_to_word[new_id] = word\n",
        "\n",
        "print(word_to_id)\n",
        "print(id_to_word)\n",
        "\n",
        "import numpy as np\n",
        "\n",
        "corpus = [word_to_id[w] for w in words]\n",
        "corpus = np.array(corpus)\n",
        "print(corpus)\n"
      ],
      "execution_count": 5,
      "outputs": [
        {
          "output_type": "stream",
          "text": [
            "['you', 'say', 'goodbye', 'and', 'i', 'say', 'hello', '.']\n",
            "{'you': 0, 'say': 1, 'goodbye': 2, 'and': 3, 'i': 4, 'hello': 5, '.': 6}\n",
            "{0: 'you', 1: 'say', 2: 'goodbye', 3: 'and', 4: 'i', 5: 'hello', 6: '.'}\n",
            "[0 1 2 3 4 1 5 6]\n"
          ],
          "name": "stdout"
        }
      ]
    },
    {
      "metadata": {
        "id": "7keTbsMwI-Iq",
        "colab_type": "code",
        "colab": {}
      },
      "cell_type": "code",
      "source": [
        "import numpy as np\n",
        "\n",
        "def preprocess(text):\n",
        "    text = text.lower()\n",
        "    text = text.replace('.', ' .')\n",
        "    words = text.split(' ')\n",
        "    word_to_id = {}\n",
        "    id_to_word = {}\n",
        "    for word in words:\n",
        "        if word not in word_to_id:\n",
        "            new_id = len(word_to_id)\n",
        "            word_to_id[word] = new_id\n",
        "            id_to_word[new_id] = word\n",
        "    corpus = np.array([word_to_id[w] for w in words])\n",
        "    return corpus, word_to_id, id_to_word"
      ],
      "execution_count": 0,
      "outputs": []
    },
    {
      "metadata": {
        "id": "med8RUZ1JBpS",
        "colab_type": "code",
        "colab": {
          "base_uri": "https://localhost:8080/",
          "height": 34
        },
        "outputId": "95b42ab9-cd06-4eb6-d815-40fc327af30d"
      },
      "cell_type": "code",
      "source": [
        "text = 'You say goodbye and I say hello.'\n",
        "corpus, word_to_id, id_to_word = preprocess(text)\n",
        "\n",
        "print(word_to_id)"
      ],
      "execution_count": 7,
      "outputs": [
        {
          "output_type": "stream",
          "text": [
            "{'you': 0, 'say': 1, 'goodbye': 2, 'and': 3, 'i': 4, 'hello': 5, '.': 6}\n"
          ],
          "name": "stdout"
        }
      ]
    },
    {
      "metadata": {
        "id": "_A8OruKezQm_",
        "colab_type": "code",
        "colab": {}
      },
      "cell_type": "code",
      "source": [
        ""
      ],
      "execution_count": 0,
      "outputs": []
    },
    {
      "metadata": {
        "id": "CFXRdR5xzAqN",
        "colab_type": "code",
        "colab": {}
      },
      "cell_type": "code",
      "source": [
        "def cos_similarity(x, y,eps=1e-8):\n",
        "    nx=x / (np.sqrt(np.sum(x ** 2)) + eps)\n",
        "    ny=y / (np.sqrt(np.sum(y ** 2)) + eps)\n",
        "    return np.dot(nx, ny)\n"
      ],
      "execution_count": 0,
      "outputs": []
    },
    {
      "metadata": {
        "id": "ILL3FR5tzO0r",
        "colab_type": "code",
        "colab": {}
      },
      "cell_type": "code",
      "source": [
        "def create_co_matrix(corpus, vocab_size, window_size=1):\n",
        "    corpus_size = len(corpus)\n",
        "    co_matrix = np.zeros((vocab_size, vocab_size), dtype=np.int32)\n",
        "    for idx, word_id in enumerate(corpus):\n",
        "        for i in range(1, window_size + 1):\n",
        "            left_idx = idx - i\n",
        "            right_idx = idx + i\n",
        "\n",
        "            if left_idx >= 0:\n",
        "                left_word_id = corpus[left_idx]\n",
        "                co_matrix[word_id, left_word_id] += 1\n",
        "\n",
        "            if right_idx < corpus_size:\n",
        "                right_word_id = corpus[right_idx]\n",
        "                co_matrix[word_id, right_word_id] += 1\n",
        "    return co_matrix\n",
        "\n"
      ],
      "execution_count": 0,
      "outputs": []
    },
    {
      "metadata": {
        "id": "LXgxgeL8zGEE",
        "colab_type": "code",
        "colab": {
          "base_uri": "https://localhost:8080/",
          "height": 34
        },
        "outputId": "902c44e0-26da-452e-c80e-ab3838bb0d34"
      },
      "cell_type": "code",
      "source": [
        "text = 'You say goodbye and I say hello.'\n",
        "corpus, word_to_id, id_to_word = preprocess(text)\n",
        "vocab_size = len(word_to_id)\n",
        "C = create_co_matrix(corpus, vocab_size)\n",
        "c0 = C[word_to_id['you']] #「you」の単語ベクトル\n",
        "c1 = C[word_to_id['i']] #「i」の単語ベクトル\n",
        "print(cos_similarity(c0, c1))\n"
      ],
      "execution_count": 10,
      "outputs": [
        {
          "output_type": "stream",
          "text": [
            "0.7071067691154799\n"
          ],
          "name": "stdout"
        }
      ]
    },
    {
      "metadata": {
        "id": "WjzNqAUnzGvW",
        "colab_type": "code",
        "colab": {}
      },
      "cell_type": "code",
      "source": [
        "def most_similar(query, word_to_id, id_to_word, word_matrix, top=5):\n",
        "    if query not in word_to_id:\n",
        "        print(\"%s is not found\" % query)\n",
        "        return\n",
        "    \n",
        "    print(\"\\n[query] \" + query)\n",
        "    query_id = word_to_id[query]\n",
        "    query_vec = word_matrix[query_id]\n",
        "\n",
        "    vocab_size = len(id_to_word)\n",
        "    similarity = np.zeros(vocab_size)\n",
        "    for i in range(vocab_size):\n",
        "        similarity[i] = cos_similarity(word_matrix[i], query_vec)\n",
        "    \n",
        "    count = 0\n",
        "    for i in (-1 * similarity).argsort():\n",
        "        if id_to_word[i] == query:\n",
        "            continue\n",
        "        print(\"%s: %s\" % (id_to_word[i], similarity[i]))\n",
        "        count += 1\n",
        "        if count >= top:\n",
        "            return\n",
        "    \n",
        "\n"
      ],
      "execution_count": 0,
      "outputs": []
    },
    {
      "metadata": {
        "id": "Hw3hvpYf5_dV",
        "colab_type": "code",
        "colab": {
          "base_uri": "https://localhost:8080/",
          "height": 136
        },
        "outputId": "d0969caa-0ac9-4d43-e451-9bc81aeeea5f"
      },
      "cell_type": "code",
      "source": [
        "\n",
        "\n",
        "most_similar('you', word_to_id, id_to_word, C, top=5)"
      ],
      "execution_count": 12,
      "outputs": [
        {
          "output_type": "stream",
          "text": [
            "\n",
            "[query] you\n",
            "goodbye: 0.7071067691154799\n",
            "i: 0.7071067691154799\n",
            "hello: 0.7071067691154799\n",
            "say: 0.0\n",
            "and: 0.0\n"
          ],
          "name": "stdout"
        }
      ]
    },
    {
      "metadata": {
        "id": "nxxPewdb6AID",
        "colab_type": "code",
        "colab": {}
      },
      "cell_type": "code",
      "source": [
        "def ppmi(C, verbose=False, eps=1e-8):\n",
        "    M=np.zeros_like(C, dtype=np.float32)\n",
        "    N=np.sum(C)\n",
        "    S=np.sum(C, axis=0)\n",
        "    total=C.shape[0] * C.shape[1]\n",
        "    cnt=0\n",
        "\n",
        "    for i in range(C.shape[0]):\n",
        "        for j in range(C.shape[1]):\n",
        "            pmi = np.log2(C[i, j] * N / (S[j] * S[i]) + eps)\n",
        "            M[i, j] = max(0, pmi)\n",
        "            if verbose:\n",
        "                cnt += 1\n",
        "                if cnt % (total // 100) == 0:\n",
        "                    print(\"%.1f%% done\" % (100 * cnt / total))\n",
        "    \n",
        "    return M"
      ],
      "execution_count": 0,
      "outputs": []
    },
    {
      "metadata": {
        "id": "CDshszslNKRf",
        "colab_type": "code",
        "colab": {
          "base_uri": "https://localhost:8080/",
          "height": 306
        },
        "outputId": "bc58a64a-ab46-433e-d78f-e29a41fc2332"
      },
      "cell_type": "code",
      "source": [
        "text = 'You say goodbye and I say hello.'\n",
        "corpus, word_to_id, id_to_word = preprocess(text)\n",
        "vocab_size = len(word_to_id)\n",
        "C = create_co_matrix(corpus, vocab_size)\n",
        "W = ppmi(C)\n",
        "np.set_printoptions(precision=3) # 有効桁3桁で表示\n",
        "print('covariance matrix')\n",
        "print(C)\n",
        "print('-'*50)\n",
        "print('PPMI')\n",
        "print(W)"
      ],
      "execution_count": 14,
      "outputs": [
        {
          "output_type": "stream",
          "text": [
            "covariance matrix\n",
            "[[0 1 0 0 0 0 0]\n",
            " [1 0 1 0 1 1 0]\n",
            " [0 1 0 1 0 0 0]\n",
            " [0 0 1 0 1 0 0]\n",
            " [0 1 0 1 0 0 0]\n",
            " [0 1 0 0 0 0 1]\n",
            " [0 0 0 0 0 1 0]]\n",
            "--------------------------------------------------\n",
            "PPMI\n",
            "[[0.    1.807 0.    0.    0.    0.    0.   ]\n",
            " [1.807 0.    0.807 0.    0.807 0.807 0.   ]\n",
            " [0.    0.807 0.    1.807 0.    0.    0.   ]\n",
            " [0.    0.    1.807 0.    1.807 0.    0.   ]\n",
            " [0.    0.807 0.    1.807 0.    0.    0.   ]\n",
            " [0.    0.807 0.    0.    0.    0.    2.807]\n",
            " [0.    0.    0.    0.    0.    2.807 0.   ]]\n"
          ],
          "name": "stdout"
        }
      ]
    },
    {
      "metadata": {
        "id": "GBebTd1ee2Et",
        "colab_type": "text"
      },
      "cell_type": "markdown",
      "source": [
        "# Google Driveをマウントする\n",
        "# Google Driveにあるdeep-learning-from-scratch-2のライブラリを読み込む例\n"
      ]
    },
    {
      "metadata": {
        "id": "pposJPK3b6za",
        "colab_type": "code",
        "colab": {
          "base_uri": "https://localhost:8080/",
          "height": 71
        },
        "outputId": "d4b613c5-78c7-422d-bfe4-792bd60ab043"
      },
      "cell_type": "code",
      "source": [
        "from google.colab import drive\n",
        "import sys\n",
        "drive.mount('/content/drive')\n",
        "libr =  '/content/drive/My Drive/Colab Notebooks/deep-learning-from-scratch-2'\n",
        "sys.path.append(libr)\n",
        "print(sys.path)\n",
        "import numpy as np\n",
        "import matplotlib.pyplot as plt\n",
        "from common.util import preprocess, create_co_matrix, ppmi"
      ],
      "execution_count": 7,
      "outputs": [
        {
          "output_type": "stream",
          "text": [
            "Mounted at /content/drive\n",
            "['', '/env/python', '/usr/lib/python36.zip', '/usr/lib/python3.6', '/usr/lib/python3.6/lib-dynload', '/usr/local/lib/python3.6/dist-packages', '/usr/lib/python3/dist-packages', '/usr/local/lib/python3.6/dist-packages/IPython/extensions', '/root/.ipython', '/content/drive/My Drive/Colab Notebooks/deep-learning-from-scratch-2']\n"
          ],
          "name": "stdout"
        }
      ]
    },
    {
      "metadata": {
        "id": "CKYMXxz6cJ00",
        "colab_type": "code",
        "colab": {
          "base_uri": "https://localhost:8080/",
          "height": 51
        },
        "outputId": "87bf4113-c416-4643-9e2e-a8c6709ef1db"
      },
      "cell_type": "code",
      "source": [
        "!ls \"/content/drive/My Drive/Colab Notebooks/deep-learning-from-scratch-2\""
      ],
      "execution_count": 8,
      "outputs": [
        {
          "output_type": "stream",
          "text": [
            "ch01  ch03  ch05  ch07\tcommon\t LICENSE.md\n",
            "ch02  ch04  ch06  ch08\tdataset  README.md\n"
          ],
          "name": "stdout"
        }
      ]
    },
    {
      "metadata": {
        "id": "mTNRbTkqOJth",
        "colab_type": "code",
        "colab": {
          "base_uri": "https://localhost:8080/",
          "height": 384
        },
        "outputId": "72701a23-b025-4ae2-ec8e-6d1c0ea4dc1e"
      },
      "cell_type": "code",
      "source": [
        "import sys\n",
        "import os\n",
        "libr =  '/content/drive/My Drive/Colab Notebooks/deep-learning-from-scratch-2'\n",
        "sys.path.append(libr)\n",
        "print(sys.path)\n",
        "import numpy as np\n",
        "import matplotlib.pyplot as plt\n",
        "from common.util import preprocess, create_co_matrix, ppmi\n",
        "\n",
        "text = 'You say goodbye and I say hello.'\n",
        "corpus, word_to_id, id_to_word = preprocess(text)\n",
        "vocab_size = len(id_to_word)\n",
        "C = create_co_matrix(corpus, vocab_size, window_size=1)\n",
        "W = ppmi(C)\n",
        "\n",
        "# SVD\n",
        "U, S, V = np.linalg.svd(W)\n",
        "for word, word_id in word_to_id.items():\n",
        "    plt.annotate(word, (U[word_id, 0],U[word_id,1]))\n",
        "\n",
        "plt.scatter(U[:,0], U[:,1],alpha=0.5)\n",
        "plt.show()\n",
        "\n"
      ],
      "execution_count": 9,
      "outputs": [
        {
          "output_type": "stream",
          "text": [
            "['', '/env/python', '/usr/lib/python36.zip', '/usr/lib/python3.6', '/usr/lib/python3.6/lib-dynload', '/usr/local/lib/python3.6/dist-packages', '/usr/lib/python3/dist-packages', '/usr/local/lib/python3.6/dist-packages/IPython/extensions', '/root/.ipython', '/content/drive/My Drive/Colab Notebooks/deep-learning-from-scratch-2', '..', '/content/drive/My Drive/Colab Notebooks/deep-learning-from-scratch-2']\n"
          ],
          "name": "stdout"
        },
        {
          "output_type": "display_data",
          "data": {
            "image/png": "[encoded data removed]",
            "text/plain": [
              "<matplotlib.figure.Figure at 0x7f047a408080>"
            ]
          },
          "metadata": {
            "tags": []
          }
        }
      ]
    },
    {
      "metadata": {
        "id": "7pCqakkFNMNL",
        "colab_type": "code",
        "colab": {
          "base_uri": "https://localhost:8080/",
          "height": 34
        },
        "outputId": "dbcc6815-e634-48ea-89e8-c4259160822a"
      },
      "cell_type": "code",
      "source": [
        ""
      ],
      "execution_count": 21,
      "outputs": [
        {
          "output_type": "stream",
          "text": [
            "ls: cannot access 'drive': No such file or directory\n"
          ],
          "name": "stdout"
        }
      ]
    },
    {
      "metadata": {
        "id": "H2FvAU_1dghk",
        "colab_type": "code",
        "colab": {
          "base_uri": "https://localhost:8080/",
          "height": 2244
        },
        "outputId": "506ef34d-6127-424e-b105-f36dbfe7499b"
      },
      "cell_type": "code",
      "source": [
        "import numpy as np\n",
        "from common.util import most_similar, create_co_matrix, ppmi\n",
        "from dataset import ptb\n",
        "\n",
        "window_size = 2\n",
        "wordvec_size = 100\n",
        "try:\n",
        "    from sklearn.utils.extmath import randomized_svd\n",
        "except ImportError:\n",
        "    print(\"can't import\")\n",
        "    exit()\n",
        "corpus, word_to_id, id_to_word = ptb.load_data('train')\n",
        "vocab_size = len(word_to_id)\n",
        "print('counting  co-occurrence ...')\n",
        "C = create_co_matrix(corpus, vocab_size, window_size)\n",
        "print('calculating PPMI ...')\n",
        "W = ppmi(C, verbose=True)\n",
        "\n",
        "print('calculating SVD ...')\n",
        "try:\n",
        "    # truncated SVD (fast!)\n",
        "\n",
        "    from sklearn.utils.extmath import randomized_svd\n",
        "    U, S, V = randomized_svd(W, n_components=wordvec_size, n_iter=5,\n",
        "                             random_state=None)\n",
        "except ImportError:\n",
        "    # SVD (slow)\n",
        "    print(\"slow\")\n",
        "    U, S, V = np.linalg.svd(W)\n",
        "\n",
        "word_vecs = U[:, :wordvec_size]\n",
        "\n",
        "querys = ['you', 'year', 'car', 'toyota']\n",
        "for query in querys:\n",
        "    most_similar(query, word_to_id, id_to_word, word_vecs, top=5)\n"
      ],
      "execution_count": 34,
      "outputs": [
        {
          "output_type": "stream",
          "text": [
            "counting  co-occurrence ...\n",
            "calculating PPMI ...\n",
            "1.0% done\n",
            "2.0% done\n",
            "3.0% done\n",
            "4.0% done\n",
            "5.0% done\n",
            "6.0% done\n",
            "7.0% done\n",
            "8.0% done\n",
            "9.0% done\n",
            "10.0% done\n",
            "11.0% done\n",
            "12.0% done\n",
            "13.0% done\n",
            "14.0% done\n",
            "15.0% done\n",
            "16.0% done\n",
            "17.0% done\n",
            "18.0% done\n",
            "19.0% done\n",
            "20.0% done\n",
            "21.0% done\n",
            "22.0% done\n",
            "23.0% done\n",
            "24.0% done\n",
            "25.0% done\n",
            "26.0% done\n",
            "27.0% done\n",
            "28.0% done\n",
            "29.0% done\n",
            "30.0% done\n",
            "31.0% done\n",
            "32.0% done\n",
            "33.0% done\n",
            "34.0% done\n",
            "35.0% done\n",
            "36.0% done\n",
            "37.0% done\n",
            "38.0% done\n",
            "39.0% done\n",
            "40.0% done\n",
            "41.0% done\n",
            "42.0% done\n",
            "43.0% done\n",
            "44.0% done\n",
            "45.0% done\n",
            "46.0% done\n",
            "47.0% done\n",
            "48.0% done\n",
            "49.0% done\n",
            "50.0% done\n",
            "51.0% done\n",
            "52.0% done\n",
            "53.0% done\n",
            "54.0% done\n",
            "55.0% done\n",
            "56.0% done\n",
            "57.0% done\n",
            "58.0% done\n",
            "59.0% done\n",
            "60.0% done\n",
            "61.0% done\n",
            "62.0% done\n",
            "63.0% done\n",
            "64.0% done\n",
            "65.0% done\n",
            "66.0% done\n",
            "67.0% done\n",
            "68.0% done\n",
            "69.0% done\n",
            "70.0% done\n",
            "71.0% done\n",
            "72.0% done\n",
            "73.0% done\n",
            "74.0% done\n",
            "75.0% done\n",
            "76.0% done\n",
            "77.0% done\n",
            "78.0% done\n",
            "79.0% done\n",
            "80.0% done\n",
            "81.0% done\n",
            "82.0% done\n",
            "83.0% done\n",
            "84.0% done\n",
            "85.0% done\n",
            "86.0% done\n",
            "87.0% done\n",
            "88.0% done\n",
            "89.0% done\n",
            "90.0% done\n",
            "91.0% done\n",
            "92.0% done\n",
            "93.0% done\n",
            "94.0% done\n",
            "95.0% done\n",
            "96.0% done\n",
            "97.0% done\n",
            "98.0% done\n",
            "99.0% done\n",
            "100.0% done\n",
            "calculating SVD ...\n",
            "\n",
            "[query] you\n",
            " i: 0.6929749846458435\n",
            " we: 0.6390077471733093\n",
            " do: 0.6375547051429749\n",
            " anybody: 0.5656633377075195\n",
            " someone: 0.5568373799324036\n",
            "\n",
            "[query] year\n",
            " quarter: 0.6750348806381226\n",
            " earlier: 0.6397271752357483\n",
            " month: 0.6369876861572266\n",
            " next: 0.6179594397544861\n",
            " last: 0.5919192433357239\n",
            "\n",
            "[query] car\n",
            " auto: 0.5229128003120422\n",
            " truck: 0.5222605466842651\n",
            " luxury: 0.5097161531448364\n",
            " cars: 0.4977967441082001\n",
            " vehicle: 0.48645561933517456\n",
            "\n",
            "[query] toyota\n",
            " motor: 0.7533544301986694\n",
            " motors: 0.6817812323570251\n",
            " honda: 0.6577357053756714\n",
            " mazda: 0.643952488899231\n",
            " lexus: 0.6345124840736389\n"
          ],
          "name": "stdout"
        }
      ]
    },
    {
      "metadata": {
        "id": "OBwGerqUbKRb",
        "colab_type": "code",
        "colab": {
          "base_uri": "https://localhost:8080/",
          "height": 1720
        },
        "outputId": "237d670c-a7c1-4e6c-a9ff-6793a18b070c"
      },
      "cell_type": "code",
      "source": [
        "!cat /proc/cpuinfo\n",
        "!cat /proc/meminfo"
      ],
      "execution_count": 37,
      "outputs": [
        {
          "output_type": "stream",
          "text": [
            "processor\t: 0\n",
            "vendor_id\t: GenuineIntel\n",
            "cpu family\t: 6\n",
            "model\t\t: 63\n",
            "model name\t: Intel(R) Xeon(R) CPU @ 2.30GHz\n",
            "stepping\t: 0\n",
            "microcode\t: 0x1\n",
            "cpu MHz\t\t: 2300.000\n",
            "cache size\t: 46080 KB\n",
            "physical id\t: 0\n",
            "siblings\t: 2\n",
            "core id\t\t: 0\n",
            "cpu cores\t: 1\n",
            "apicid\t\t: 0\n",
            "initial apicid\t: 0\n",
            "fpu\t\t: yes\n",
            "fpu_exception\t: yes\n",
            "cpuid level\t: 13\n",
            "wp\t\t: yes\n",
            "flags\t\t: fpu vme de pse tsc msr pae mce cx8 apic sep mtrr pge mca cmov pat pse36 clflush mmx fxsr sse sse2 ss ht syscall nx pdpe1gb rdtscp lm constant_tsc rep_good nopl xtopology nonstop_tsc cpuid pni pclmulqdq ssse3 fma cx16 sse4_1 sse4_2 x2apic movbe popcnt aes xsave avx f16c rdrand hypervisor lahf_lm abm pti fsgsbase tsc_adjust bmi1 avx2 smep bmi2 erms xsaveopt arch_capabilities\n",
            "bugs\t\t: cpu_meltdown spectre_v1 spectre_v2 l1tf\n",
            "bogomips\t: 4600.00\n",
            "clflush size\t: 64\n",
            "cache_alignment\t: 64\n",
            "address sizes\t: 46 bits physical, 48 bits virtual\n",
            "power management:\n",
            "\n",
            "processor\t: 1\n",
            "vendor_id\t: GenuineIntel\n",
            "cpu family\t: 6\n",
            "model\t\t: 63\n",
            "model name\t: Intel(R) Xeon(R) CPU @ 2.30GHz\n",
            "stepping\t: 0\n",
            "microcode\t: 0x1\n",
            "cpu MHz\t\t: 2300.000\n",
            "cache size\t: 46080 KB\n",
            "physical id\t: 0\n",
            "siblings\t: 2\n",
            "core id\t\t: 0\n",
            "cpu cores\t: 1\n",
            "apicid\t\t: 1\n",
            "initial apicid\t: 1\n",
            "fpu\t\t: yes\n",
            "fpu_exception\t: yes\n",
            "cpuid level\t: 13\n",
            "wp\t\t: yes\n",
            "flags\t\t: fpu vme de pse tsc msr pae mce cx8 apic sep mtrr pge mca cmov pat pse36 clflush mmx fxsr sse sse2 ss ht syscall nx pdpe1gb rdtscp lm constant_tsc rep_good nopl xtopology nonstop_tsc cpuid pni pclmulqdq ssse3 fma cx16 sse4_1 sse4_2 x2apic movbe popcnt aes xsave avx f16c rdrand hypervisor lahf_lm abm pti fsgsbase tsc_adjust bmi1 avx2 smep bmi2 erms xsaveopt arch_capabilities\n",
            "bugs\t\t: cpu_meltdown spectre_v1 spectre_v2 l1tf\n",
            "bogomips\t: 4600.00\n",
            "clflush size\t: 64\n",
            "cache_alignment\t: 64\n",
            "address sizes\t: 46 bits physical, 48 bits virtual\n",
            "power management:\n",
            "\n",
            "MemTotal:       13335236 kB\n",
            "MemFree:         7125584 kB\n",
            "MemAvailable:   11454308 kB\n",
            "Buffers:           51992 kB\n",
            "Cached:          4203484 kB\n",
            "SwapCached:            0 kB\n",
            "Active:          1447972 kB\n",
            "Inactive:        4427860 kB\n",
            "Active(anon):    1201892 kB\n",
            "Inactive(anon):   164952 kB\n",
            "Active(file):     246080 kB\n",
            "Inactive(file):  4262908 kB\n",
            "Unevictable:           0 kB\n",
            "Mlocked:               0 kB\n",
            "SwapTotal:             0 kB\n",
            "SwapFree:              0 kB\n",
            "Dirty:               704 kB\n",
            "Writeback:             0 kB\n",
            "AnonPages:       1618456 kB\n",
            "Mapped:           344312 kB\n",
            "Shmem:            257020 kB\n",
            "Slab:             159964 kB\n",
            "SReclaimable:     122788 kB\n",
            "SUnreclaim:        37176 kB\n",
            "KernelStack:        4260 kB\n",
            "PageTables:         7988 kB\n",
            "NFS_Unstable:          0 kB\n",
            "Bounce:                0 kB\n",
            "WritebackTmp:          0 kB\n",
            "CommitLimit:     6667616 kB\n",
            "Committed_AS:    3744804 kB\n",
            "VmallocTotal:   34359738367 kB\n",
            "VmallocUsed:           0 kB\n",
            "VmallocChunk:          0 kB\n",
            "AnonHugePages:         0 kB\n",
            "ShmemHugePages:        0 kB\n",
            "ShmemPmdMapped:        0 kB\n",
            "HugePages_Total:       0\n",
            "HugePages_Free:        0\n",
            "HugePages_Rsvd:        0\n",
            "HugePages_Surp:        0\n",
            "Hugepagesize:       2048 kB\n",
            "DirectMap4k:      178164 kB\n",
            "DirectMap2M:     8210432 kB\n",
            "DirectMap1G:     7340032 kB\n"
          ],
          "name": "stdout"
        }
      ]
    },
    {
      "metadata": {
        "id": "9-HmEO8MeiSh",
        "colab_type": "text"
      },
      "cell_type": "markdown",
      "source": [
        ""
      ]
    }
  ]
}